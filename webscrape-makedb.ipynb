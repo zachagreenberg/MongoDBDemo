{
 "cells": [
  {
   "cell_type": "markdown",
   "metadata": {},
   "source": [
    "This notebook contains the code for the webscraping of an IMDB page to create a MongoDB Database. The database is a list of the top 50 Animated Films."
   ]
  },
  {
   "cell_type": "code",
   "execution_count": 1,
   "metadata": {},
   "outputs": [],
   "source": [
    "import requests\n",
    "import json\n",
    "from bs4 import BeautifulSoup\n",
    "import re\n",
    "import numpy as np\n",
    "\n",
    "import pymongo\n",
    "from bson.json_util import dumps"
   ]
  },
  {
   "cell_type": "code",
   "execution_count": 2,
   "metadata": {},
   "outputs": [],
   "source": [
    "url='https://www.imdb.com/search/title/?genres=animation&sort=user_rating,desc&title_type=feature&num_votes=25000,&pf_rd_m=A2FGELUUNOQJNL&pf_rd_p=5aab685f-35eb-40f3-95f7-c53f09d542c3&pf_rd_r=RSN2DY6XD2962XY8AM4V&pf_rd_s=right-6&pf_rd_t=15506&pf_rd_i=top&ref_=chttp_gnr_3'\n",
    "response = requests.get(url)\n",
    "html = response.content\n",
    "scraped = BeautifulSoup(html, 'html.parser')"
   ]
  },
  {
   "cell_type": "code",
   "execution_count": 3,
   "metadata": {},
   "outputs": [],
   "source": [
    "movies = scraped.find('div', class_='lister list detail sub-list')"
   ]
  },
  {
   "cell_type": "markdown",
   "metadata": {},
   "source": [
    "The following information is taken from the IMDB page:\n",
    "\n",
    "rank - the rank of the movie out of 50  \n",
    "title - the title of the film  \n",
    "year - the year the film was made  \n",
    "rating - the MPAA rating of the film (ie G, PG, R)  \n",
    "runtime - the runtime of the film in minutes  \n",
    "genre - the genre of the film  \n",
    "score -  the rating of the film out of 10  \n",
    "directors - the director/directors of the film  \n",
    "cast - the main actors in the film  \n",
    "gross - the gross of the film  "
   ]
  },
  {
   "cell_type": "code",
   "execution_count": 4,
   "metadata": {},
   "outputs": [],
   "source": [
    "rank = []\n",
    "title = []\n",
    "year = []\n",
    "for item in movies.find_all('h3'):\n",
    "    rank.append(re.findall('\\d+',item.text.split('\\n')[1])[0])\n",
    "    title.append(item.text.split('\\n')[2])\n",
    "    year.append(item.text.split('\\n')[-2][-5:-1])\n",
    "    "
   ]
  },
  {
   "cell_type": "code",
   "execution_count": 5,
   "metadata": {},
   "outputs": [],
   "source": [
    "rating = []\n",
    "runtime = []\n",
    "genre = []\n",
    "for item in movies.find_all('span', class_='certificate'):\n",
    "    rating.append(item.text)\n",
    "for item in movies.find_all('span', class_='runtime'):\n",
    "    runtime.append(int(item.text[:-4]))\n",
    "for item in movies.find_all('span', class_='genre'):\n",
    "    genre.append(re.findall('\\n(.*)', item.text)[0].strip().split(', '))\n",
    "    "
   ]
  },
  {
   "cell_type": "code",
   "execution_count": 6,
   "metadata": {},
   "outputs": [],
   "source": [
    "score = []\n",
    "for item in movies.find_all('strong'):\n",
    "    score.append(float(item.text))"
   ]
  },
  {
   "cell_type": "code",
   "execution_count": 7,
   "metadata": {},
   "outputs": [],
   "source": [
    "directors = []\n",
    "cast = []\n",
    "\n",
    "for item in movies.find_all('p', class_=''):\n",
    "    directors.append(re.findall('[A-Z][a-z]*\\s[A-Z\\[a-z]*', item.text.split('|')[0]))\n",
    "    cast.append(re.findall('[A-Z][a-z]*\\s[A-Z][a-z]*', item.text.split('Stars:\\n')[1]))"
   ]
  },
  {
   "cell_type": "code",
   "execution_count": 8,
   "metadata": {},
   "outputs": [],
   "source": [
    "gross = []\n",
    "for item in movies.find_all('p', class_='sort-num_votes-visible'):\n",
    "    amount = re.findall('Gross:\\n(.*)', item.text)\n",
    "    gross.append(int(amount[0].replace('.', '').replace('M', '0000')[1:]) if amount else np.nan)\n",
    "   "
   ]
  },
  {
   "cell_type": "code",
   "execution_count": 9,
   "metadata": {},
   "outputs": [],
   "source": [
    "#taking these lists and iterating through them to create a list of dictionaries.\n",
    "\n",
    "movie_db = []\n",
    "\n",
    "for i in range(len(title)):\n",
    "    movie_db.append({'rank':rank[i],\n",
    "                    'title':title[i],\n",
    "                    'year': year[i], \n",
    "                     'rating': rating[i],\n",
    "                     'runtime': runtime[i], \n",
    "                     'genre': genre[i],\n",
    "                     'score': score[i],\n",
    "                     'directors': directors[i],\n",
    "                     'cast': cast[i],\n",
    "                     'gross': gross[i]})"
   ]
  },
  {
   "cell_type": "markdown",
   "metadata": {},
   "source": [
    "The process of how to do this can be seen on a great blog by Halil Yildirim. The blog can be found [here](https://towardsdatascience.com/using-mongodb-with-python-bcb26bf25d5d)."
   ]
  },
  {
   "cell_type": "code",
   "execution_count": 10,
   "metadata": {},
   "outputs": [],
   "source": [
    "from host import *\n",
    "\n",
    "client = pymongo.MongoClient(hostname)"
   ]
  },
  {
   "cell_type": "code",
   "execution_count": 11,
   "metadata": {},
   "outputs": [],
   "source": [
    "db = client['movies']"
   ]
  },
  {
   "cell_type": "code",
   "execution_count": 12,
   "metadata": {},
   "outputs": [],
   "source": [
    "collection = db['animatedFilms']"
   ]
  },
  {
   "cell_type": "code",
   "execution_count": 13,
   "metadata": {
    "scrolled": true
   },
   "outputs": [
    {
     "data": {
      "text/plain": [
       "<pymongo.results.InsertManyResult at 0x7ff18bab2e80>"
      ]
     },
     "execution_count": 13,
     "metadata": {},
     "output_type": "execute_result"
    }
   ],
   "source": [
    "collection.insert_many(movie_db)"
   ]
  },
  {
   "cell_type": "markdown",
   "metadata": {},
   "source": [
    "For reproducibility, the animatedFilms collection in the movies db has been exported as a JSON file. To learn how to do this, see this [link](https://www.geeksforgeeks.org/convert-pymongo-cursor-to-json/)"
   ]
  },
  {
   "cell_type": "code",
   "execution_count": 14,
   "metadata": {},
   "outputs": [],
   "source": [
    "documents = collection.find({})\n",
    "\n",
    "list_documents = list(documents)\n",
    "\n",
    "json_films = dumps(list_documents, indent = 2)\n",
    "\n",
    "with open('films.json', 'w') as file:\n",
    "    file.write(json_films)"
   ]
  }
 ],
 "metadata": {
  "kernelspec": {
   "display_name": "Python 3",
   "language": "python",
   "name": "python3"
  },
  "language_info": {
   "codemirror_mode": {
    "name": "ipython",
    "version": 3
   },
   "file_extension": ".py",
   "mimetype": "text/x-python",
   "name": "python",
   "nbconvert_exporter": "python",
   "pygments_lexer": "ipython3",
   "version": "3.8.5"
  },
  "toc": {
   "base_numbering": 1,
   "nav_menu": {},
   "number_sections": true,
   "sideBar": true,
   "skip_h1_title": false,
   "title_cell": "Table of Contents",
   "title_sidebar": "Contents",
   "toc_cell": false,
   "toc_position": {},
   "toc_section_display": true,
   "toc_window_display": false
  },
  "varInspector": {
   "cols": {
    "lenName": 16,
    "lenType": 16,
    "lenVar": 40
   },
   "kernels_config": {
    "python": {
     "delete_cmd_postfix": "",
     "delete_cmd_prefix": "del ",
     "library": "var_list.py",
     "varRefreshCmd": "print(var_dic_list())"
    },
    "r": {
     "delete_cmd_postfix": ") ",
     "delete_cmd_prefix": "rm(",
     "library": "var_list.r",
     "varRefreshCmd": "cat(var_dic_list()) "
    }
   },
   "types_to_exclude": [
    "module",
    "function",
    "builtin_function_or_method",
    "instance",
    "_Feature"
   ],
   "window_display": false
  }
 },
 "nbformat": 4,
 "nbformat_minor": 4
}
