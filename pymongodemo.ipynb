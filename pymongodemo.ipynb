{
 "cells": [
  {
   "cell_type": "markdown",
   "metadata": {},
   "source": [
    "The following code accompanies a blog demonstration of how to navigate around a MongoDB database. You can find the blog [here](https://zach-a-greenberg.medium.com/79de6b2842a1)"
   ]
  },
  {
   "cell_type": "code",
   "execution_count": 1,
   "metadata": {},
   "outputs": [],
   "source": [
    "import pymongo\n",
    "from host import *"
   ]
  },
  {
   "cell_type": "code",
   "execution_count": 2,
   "metadata": {},
   "outputs": [],
   "source": [
    "client = pymongo.MongoClient(hostname)"
   ]
  },
  {
   "cell_type": "code",
   "execution_count": 3,
   "metadata": {},
   "outputs": [
    {
     "data": {
      "text/plain": [
       "['movies', 'admin', 'local']"
      ]
     },
     "execution_count": 3,
     "metadata": {},
     "output_type": "execute_result"
    }
   ],
   "source": [
    "#this is how you see the database names. 'admin' and 'local' are standard with mongodb.\n",
    "client.list_database_names()"
   ]
  },
  {
   "cell_type": "code",
   "execution_count": 4,
   "metadata": {},
   "outputs": [],
   "source": [
    "#creating a variable to access the movies db.\n",
    "db = client['movies']"
   ]
  },
  {
   "cell_type": "code",
   "execution_count": 5,
   "metadata": {},
   "outputs": [
    {
     "data": {
      "text/plain": [
       "['animatedFilms']"
      ]
     },
     "execution_count": 5,
     "metadata": {},
     "output_type": "execute_result"
    }
   ],
   "source": [
    "#viewing all of the collections in the movies db.\n",
    "db.list_collection_names()"
   ]
  },
  {
   "cell_type": "markdown",
   "metadata": {},
   "source": [
    "This is the total number of entries in the db in the animatedFilms collection."
   ]
  },
  {
   "cell_type": "code",
   "execution_count": 6,
   "metadata": {},
   "outputs": [
    {
     "data": {
      "text/plain": [
       "200"
      ]
     },
     "execution_count": 6,
     "metadata": {},
     "output_type": "execute_result"
    }
   ],
   "source": [
    "db.animatedFilms.count_documents({})"
   ]
  },
  {
   "cell_type": "markdown",
   "metadata": {},
   "source": [
    "This is a sample of what 2 of the entries in the db look like"
   ]
  },
  {
   "cell_type": "code",
   "execution_count": 7,
   "metadata": {},
   "outputs": [
    {
     "data": {
      "text/plain": [
       "[{'_id': ObjectId('617efa278a5dd277669ea133'),\n",
       "  'rank': '1',\n",
       "  'title': 'Spirited Away',\n",
       "  'year': '2001',\n",
       "  'rating': 'PG',\n",
       "  'runtime': 125,\n",
       "  'genre': ['Animation', 'Adventure', 'Family'],\n",
       "  'score': 8.6,\n",
       "  'directors': ['Hayao Miyazaki'],\n",
       "  'cast': ['Daveigh Chase', 'Suzanne Pleshette', 'Miyu Irino', 'Rumi Hiiragi'],\n",
       "  'gross': 10060000},\n",
       " {'_id': ObjectId('617efa278a5dd277669ea134'),\n",
       "  'rank': '2',\n",
       "  'title': 'The Lion King',\n",
       "  'year': '1994',\n",
       "  'rating': 'G',\n",
       "  'runtime': 88,\n",
       "  'genre': ['Animation', 'Adventure', 'Drama'],\n",
       "  'score': 8.5,\n",
       "  'directors': ['Roger Allers', 'Rob Minkoff'],\n",
       "  'cast': ['Matthew Broderick',\n",
       "   'Jeremy Irons',\n",
       "   'James Earl',\n",
       "   'Whoopi Goldberg'],\n",
       "  'gross': 422780000}]"
      ]
     },
     "execution_count": 7,
     "metadata": {},
     "output_type": "execute_result"
    }
   ],
   "source": [
    "list(db.animatedFilms.find({}).limit(2))"
   ]
  },
  {
   "cell_type": "markdown",
   "metadata": {},
   "source": [
    "Using the '$in' query operator will allow us to filter what we are searching for. A list of other query operators can be found [here](https://docs.mongodb.com/manual/reference/operator/query/)"
   ]
  },
  {
   "cell_type": "code",
   "execution_count": 8,
   "metadata": {},
   "outputs": [],
   "source": [
    "directed_by = {'directors': {'$in':['Hayao Miyazaki']}}"
   ]
  },
  {
   "cell_type": "code",
   "execution_count": 9,
   "metadata": {},
   "outputs": [
    {
     "data": {
      "text/plain": [
       "28"
      ]
     },
     "execution_count": 9,
     "metadata": {},
     "output_type": "execute_result"
    }
   ],
   "source": [
    "db.animatedFilms.count_documents(directed_by)"
   ]
  },
  {
   "cell_type": "code",
   "execution_count": 10,
   "metadata": {},
   "outputs": [
    {
     "name": "stdout",
     "output_type": "stream",
     "text": [
      "Spirited Away\n",
      "Princess Mononoke\n",
      "Howl's Moving Castle\n",
      "My Neighbor Totoro\n",
      "Nausicaä of the Valley of the Wind\n",
      "Castle in the Sky\n",
      "Kiki's Delivery Service\n",
      "Spirited Away\n",
      "Princess Mononoke\n",
      "Howl's Moving Castle\n",
      "My Neighbor Totoro\n",
      "Nausicaä of the Valley of the Wind\n",
      "Castle in the Sky\n",
      "Kiki's Delivery Service\n",
      "Spirited Away\n",
      "Princess Mononoke\n",
      "Howl's Moving Castle\n",
      "My Neighbor Totoro\n",
      "Nausicaä of the Valley of the Wind\n",
      "Castle in the Sky\n",
      "Kiki's Delivery Service\n",
      "Spirited Away\n",
      "Princess Mononoke\n",
      "Howl's Moving Castle\n",
      "My Neighbor Totoro\n",
      "Nausicaä of the Valley of the Wind\n",
      "Castle in the Sky\n",
      "Kiki's Delivery Service\n"
     ]
    }
   ],
   "source": [
    "#finding the names of the films directed by Hayao Myazaki\n",
    "cursor = db.animatedFilms.find(directed_by)\n",
    "\n",
    "for doc in cursor:\n",
    "    print(doc['title'])"
   ]
  },
  {
   "cell_type": "code",
   "execution_count": 11,
   "metadata": {},
   "outputs": [],
   "source": [
    "high_gross = {'gross': {'$gte': 20000000}}"
   ]
  },
  {
   "cell_type": "code",
   "execution_count": 12,
   "metadata": {},
   "outputs": [
    {
     "data": {
      "text/plain": [
       "96"
      ]
     },
     "execution_count": 12,
     "metadata": {},
     "output_type": "execute_result"
    }
   ],
   "source": [
    "#finding the number of films that grossed more than 20 million\n",
    "db.animatedFilms.count_documents(high_gross)"
   ]
  },
  {
   "cell_type": "code",
   "execution_count": 13,
   "metadata": {},
   "outputs": [
    {
     "data": {
      "text/plain": [
       "(27, ['1984', '1986', '1988', '1989', '1991'])"
      ]
     },
     "execution_count": 13,
     "metadata": {},
     "output_type": "execute_result"
    }
   ],
   "source": [
    "#getting a list of the years represented in the dataset and the total number of distinct years\n",
    "count_years = len(db.animatedFilms.distinct('year'))\n",
    "years = sorted(list(db.animatedFilms.distinct('year')))\n",
    "count_years, years[:5]"
   ]
  },
  {
   "cell_type": "code",
   "execution_count": 14,
   "metadata": {},
   "outputs": [],
   "source": [
    "#setting up to get the films that do not have a gross reported\n",
    "missing_gross = db.animatedFilms.find({'gross': {'$type': 'double'}}, projection={'title':1, '_id':0})"
   ]
  },
  {
   "cell_type": "code",
   "execution_count": 15,
   "metadata": {},
   "outputs": [
    {
     "name": "stdout",
     "output_type": "stream",
     "text": [
      "{'title': 'Grave of the Fireflies'}\n",
      "{'title': 'A Silent Voice: The Movie'}\n",
      "{'title': 'Klaus'}\n",
      "{'title': 'Soul'}\n",
      "{'title': 'Wolf Children'}\n",
      "{'title': 'Mary and Max'}\n",
      "{'title': 'Neon Genesis Evangelion: The End of Evangelion'}\n",
      "{'title': 'Wolfwalkers'}\n",
      "{'title': 'Castle in the Sky'}\n",
      "{'title': 'Whisper of the Heart'}\n",
      "{'title': 'Ninja Scroll'}\n",
      "{'title': \"Kiki's Delivery Service\"}\n",
      "{'title': 'Grave of the Fireflies'}\n",
      "{'title': 'A Silent Voice: The Movie'}\n",
      "{'title': 'Klaus'}\n",
      "{'title': 'Soul'}\n",
      "{'title': 'Wolf Children'}\n",
      "{'title': 'Mary and Max'}\n",
      "{'title': 'Neon Genesis Evangelion: The End of Evangelion'}\n",
      "{'title': 'Wolfwalkers'}\n",
      "{'title': 'Castle in the Sky'}\n",
      "{'title': 'Whisper of the Heart'}\n",
      "{'title': 'Ninja Scroll'}\n",
      "{'title': \"Kiki's Delivery Service\"}\n",
      "{'title': 'Grave of the Fireflies'}\n",
      "{'title': 'A Silent Voice: The Movie'}\n",
      "{'title': 'Klaus'}\n",
      "{'title': 'Soul'}\n",
      "{'title': 'Wolf Children'}\n",
      "{'title': 'Mary and Max'}\n",
      "{'title': 'Neon Genesis Evangelion: The End of Evangelion'}\n",
      "{'title': 'Wolfwalkers'}\n",
      "{'title': 'Castle in the Sky'}\n",
      "{'title': 'Whisper of the Heart'}\n",
      "{'title': 'Ninja Scroll'}\n",
      "{'title': \"Kiki's Delivery Service\"}\n",
      "{'title': 'Grave of the Fireflies'}\n",
      "{'title': 'A Silent Voice: The Movie'}\n",
      "{'title': 'Klaus'}\n",
      "{'title': 'Soul'}\n",
      "{'title': 'Wolf Children'}\n",
      "{'title': 'Mary and Max'}\n",
      "{'title': 'Neon Genesis Evangelion: The End of Evangelion'}\n",
      "{'title': 'Wolfwalkers'}\n",
      "{'title': 'Castle in the Sky'}\n",
      "{'title': 'Whisper of the Heart'}\n",
      "{'title': 'Ninja Scroll'}\n",
      "{'title': \"Kiki's Delivery Service\"}\n"
     ]
    }
   ],
   "source": [
    "for missing in missing_gross:\n",
    "    print(missing)"
   ]
  },
  {
   "cell_type": "markdown",
   "metadata": {},
   "source": [
    "This is how we perform aggregates. Remember that they are always grouped by something."
   ]
  },
  {
   "cell_type": "code",
   "execution_count": 16,
   "metadata": {},
   "outputs": [
    {
     "data": {
      "text/plain": [
       "[{'_id': None, 'score': 8.106}]"
      ]
     },
     "execution_count": 16,
     "metadata": {},
     "output_type": "execute_result"
    }
   ],
   "source": [
    "list(db.animatedFilms.aggregate([{'$group': {'_id':None, 'score': {'$avg':\"$score\"} } }]))"
   ]
  },
  {
   "cell_type": "code",
   "execution_count": 17,
   "metadata": {},
   "outputs": [
    {
     "data": {
      "text/plain": [
       "[{'_id': None, 'runtime': 101.66}]"
      ]
     },
     "execution_count": 17,
     "metadata": {},
     "output_type": "execute_result"
    }
   ],
   "source": [
    "list(db.animatedFilms.aggregate([{'$group': {'_id':None, 'runtime': {'$avg':\"$runtime\"} } }]))"
   ]
  }
 ],
 "metadata": {
  "kernelspec": {
   "display_name": "Python 3",
   "language": "python",
   "name": "python3"
  },
  "language_info": {
   "codemirror_mode": {
    "name": "ipython",
    "version": 3
   },
   "file_extension": ".py",
   "mimetype": "text/x-python",
   "name": "python",
   "nbconvert_exporter": "python",
   "pygments_lexer": "ipython3",
   "version": "3.8.5"
  },
  "toc": {
   "base_numbering": 1,
   "nav_menu": {},
   "number_sections": true,
   "sideBar": true,
   "skip_h1_title": false,
   "title_cell": "Table of Contents",
   "title_sidebar": "Contents",
   "toc_cell": false,
   "toc_position": {},
   "toc_section_display": true,
   "toc_window_display": false
  },
  "varInspector": {
   "cols": {
    "lenName": 16,
    "lenType": 16,
    "lenVar": 40
   },
   "kernels_config": {
    "python": {
     "delete_cmd_postfix": "",
     "delete_cmd_prefix": "del ",
     "library": "var_list.py",
     "varRefreshCmd": "print(var_dic_list())"
    },
    "r": {
     "delete_cmd_postfix": ") ",
     "delete_cmd_prefix": "rm(",
     "library": "var_list.r",
     "varRefreshCmd": "cat(var_dic_list()) "
    }
   },
   "types_to_exclude": [
    "module",
    "function",
    "builtin_function_or_method",
    "instance",
    "_Feature"
   ],
   "window_display": false
  }
 },
 "nbformat": 4,
 "nbformat_minor": 4
}
